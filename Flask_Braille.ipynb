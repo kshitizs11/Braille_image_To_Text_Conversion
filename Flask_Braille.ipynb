{
 "cells": [
  {
   "cell_type": "code",
   "execution_count": 4,
   "metadata": {},
   "outputs": [
    {
     "name": "stderr",
     "output_type": "stream",
     "text": [
      "Using TensorFlow backend.\n"
     ]
    }
   ],
   "source": [
    "from keras.models import Model,load_model\n",
    "from PIL import Image\n",
    "import matplotlib.pyplot as plt\n",
    "import numpy as np\n",
    "import pandas as pd\n",
    "import cv2\n",
    "from gtts import gTTS\n",
    "from playsound import playsound\n",
    "import IPython"
   ]
  },
  {
   "cell_type": "code",
   "execution_count": 5,
   "metadata": {},
   "outputs": [],
   "source": [
    "# test_img = Image.open(\"test/AI and machine learning.png\")\n",
    "# test_img = test_img.convert(\"RGB\")\n",
    "# total_width,height = test_img.size\n",
    "# n_chars = int(total_width/height/0.78)\n",
    "\n",
    "# width_ind = total_width/n_chars\n",
    "# # print(n_chars)\n",
    "# # print(total_width,height)\n",
    "# # print(width_ind)"
   ]
  },
  {
   "cell_type": "code",
   "execution_count": 6,
   "metadata": {},
   "outputs": [],
   "source": [
    "# plt.imshow(npimg1[:,:,:])\n",
    "# plt.show()"
   ]
  },
  {
   "cell_type": "code",
   "execution_count": 7,
   "metadata": {},
   "outputs": [],
   "source": [
    "model = load_model(\"best_model1.h5\")"
   ]
  },
  {
   "cell_type": "code",
   "execution_count": 8,
   "metadata": {},
   "outputs": [],
   "source": [
    "dicti ={'a': 0,\n",
    " 'apostrophe': 1,\n",
    " 'b': 2,\n",
    " 'c': 3,\n",
    " 'capitalize': 4,\n",
    " 'colon': 5,\n",
    " 'comma': 6,\n",
    " 'd': 7,\n",
    " 'e': 8,\n",
    " 'exclamation mark': 9,\n",
    " 'f': 10,\n",
    " 'g': 11,\n",
    " 'h': 12,\n",
    " 'hyphen': 13,\n",
    " 'i': 14,\n",
    " 'j': 15,\n",
    " 'k': 16,\n",
    " 'l': 17,\n",
    " 'm': 18,\n",
    " 'n': 19,\n",
    " 'number': 20,\n",
    " 'o': 21,\n",
    " 'p': 22,\n",
    " 'period or decimal point': 23,\n",
    " 'q': 24,\n",
    " 'question mark': 25,\n",
    " 'r': 26,\n",
    " 's': 27,\n",
    " 'semicolon': 28,\n",
    " 'space': 29,\n",
    " 't': 30,\n",
    " 'u': 31,\n",
    " 'v': 32,\n",
    " 'w': 33,\n",
    " 'x': 34,\n",
    " 'y': 35,\n",
    " 'z': 36}"
   ]
  },
  {
   "cell_type": "code",
   "execution_count": 9,
   "metadata": {},
   "outputs": [],
   "source": [
    "rev_dic = {}\n",
    "c = 0\n",
    "for i in dicti.keys():\n",
    "    rev_dic[c] = i\n",
    "    c+=1"
   ]
  },
  {
   "cell_type": "code",
   "execution_count": 18,
   "metadata": {},
   "outputs": [
    {
     "data": {
      "text/plain": [
       "{0: 'a',\n",
       " 1: 'apostrophe',\n",
       " 2: 'b',\n",
       " 3: 'c',\n",
       " 4: 'capitalize',\n",
       " 5: 'colon',\n",
       " 6: 'comma',\n",
       " 7: 'd',\n",
       " 8: 'e',\n",
       " 9: 'exclamation mark',\n",
       " 10: 'f',\n",
       " 11: 'g',\n",
       " 12: 'h',\n",
       " 13: 'hyphen',\n",
       " 14: 'i',\n",
       " 15: 'j',\n",
       " 16: 'k',\n",
       " 17: 'l',\n",
       " 18: 'm',\n",
       " 19: 'n',\n",
       " 20: 'number',\n",
       " 21: 'o',\n",
       " 22: 'p',\n",
       " 23: 'period or decimal point',\n",
       " 24: 'q',\n",
       " 25: 'question mark',\n",
       " 26: 'r',\n",
       " 27: 's',\n",
       " 28: 'semicolon',\n",
       " 29: 'space',\n",
       " 30: 't',\n",
       " 31: 'u',\n",
       " 32: 'v',\n",
       " 33: 'w',\n",
       " 34: 'x',\n",
       " 35: 'y',\n",
       " 36: 'z'}"
      ]
     },
     "execution_count": 18,
     "metadata": {},
     "output_type": "execute_result"
    }
   ],
   "source": [
    "rev_dic"
   ]
  },
  {
   "cell_type": "code",
   "execution_count": 15,
   "metadata": {},
   "outputs": [],
   "source": [
    "def braille_text(path):\n",
    "    test_img = Image.open(path)\n",
    "    test_img = test_img.convert(\"RGB\")\n",
    "    total_width,height = test_img.size\n",
    "    n_chars = int(total_width/height/0.78)\n",
    "    width_ind = total_width/n_chars\n",
    "    npimg1 = np.array(test_img)\n",
    "    text = \"\"\n",
    "    num = False\n",
    "    capital = False\n",
    "    for i in range(0,int(n_chars)):\n",
    "        cropped = test_img.crop((i*width_ind,0,(i+1)*width_ind,height))\n",
    "        cropped = np.array(cropped)\n",
    "        cropped = cv2.resize(cropped,(50,50))\n",
    "        cropped = cropped.astype(np.float32) / 255.0\n",
    "        cropped = cropped.reshape(1,50,50,3)\n",
    "        current = rev_dic[model.predict_classes(cropped)[0]]\n",
    "        if num == True:\n",
    "            if current == \"period or decimal point\":\n",
    "                current = \".\"\n",
    "                text+=current\n",
    "            elif current == \"semicolon\":\n",
    "                current = \";\"\n",
    "                text+=current\n",
    "            elif current == \"question mark\":\n",
    "                current = \"?\"\n",
    "                text+=current\n",
    "            elif current == \"hyphen\":\n",
    "                current = \"-\"\n",
    "                text+=current\n",
    "            elif current == \"exclamation mark\":\n",
    "                current = \"!\"\n",
    "                text+=current\n",
    "            elif current == \"comma\":\n",
    "                current = \",\"\n",
    "                text+=current\n",
    "            elif capital==True:\n",
    "                current = current.upper()\n",
    "                capital = False\n",
    "            elif current == \"colon\":\n",
    "                current = \":\"\n",
    "                text+=current\n",
    "            elif current == \"apostrophe\":\n",
    "                current = \"′\"\n",
    "                text+=current\n",
    "            elif current == \"space\":\n",
    "                current = \" \"\n",
    "                text+=current\n",
    "                num = False\n",
    "            elif current == \"number\":\n",
    "                current = \"\"\n",
    "                text+=current\n",
    "                continue\n",
    "            elif current == \"capitalize\":\n",
    "                capital = True\n",
    "                current = \"\"\n",
    "                continue\n",
    "            elif capital == True:\n",
    "                current = current.upper()\n",
    "                capital = False\n",
    "            if ord(current) in range(97,106):\n",
    "                text+=chr(ord(current)-48)\n",
    "            elif ord(current) == 106:\n",
    "                text+=chr(48) \n",
    "            if current!=\" \":\n",
    "                continue\n",
    "        if current==\"capitalize\":\n",
    "            capital = True\n",
    "            current = \"\"\n",
    "        elif current==\"space\":\n",
    "            current = \" \"\n",
    "        elif capital==True:\n",
    "            current = current.upper()\n",
    "            capital = False\n",
    "        elif current == \"period or decimal point\":\n",
    "            current = \".\"\n",
    "        elif current == \"semicolon\":\n",
    "            current = \";\"\n",
    "        elif current == \"question mark\":\n",
    "            current = \"?\"\n",
    "        elif current == \"hyphen\":\n",
    "            current = \"-\"\n",
    "        elif current == \"exclamation mark\":\n",
    "            current = \"!\"\n",
    "        elif current == \"comma\":\n",
    "            current = \",\"\n",
    "        elif current == \"colon\":\n",
    "            current = \":\"\n",
    "        elif current == \"apostrophe\":\n",
    "            current = \"′\"\n",
    "        elif current == \"number\":\n",
    "            num =True\n",
    "            current=\"\"\n",
    "        text+=current\n",
    "    return text"
   ]
  },
  {
   "cell_type": "code",
   "execution_count": 16,
   "metadata": {},
   "outputs": [
    {
     "data": {
      "text/plain": [
       "'Ai and ma hine learqiqg'"
      ]
     },
     "execution_count": 16,
     "metadata": {},
     "output_type": "execute_result"
    }
   ],
   "source": [
    "braille_text(\"test/AI and machine learning.png\")"
   ]
  },
  {
   "cell_type": "code",
   "execution_count": 1,
   "metadata": {},
   "outputs": [],
   "source": [
    "# start_text = \"Braille Prediction output is\"\n",
    "# Full_text = start_text+\" \"+text\n",
    "# tts = gTTS(Full_text,lang='en', slow=False)\n",
    "# file_name =\"./Braille_prediction2.wav\" \n",
    "# tts.save(file_name)\n",
    "# sound_file = file_name\n",
    "# IPython.display.Audio(sound_file,autoplay=True)"
   ]
  },
  {
   "cell_type": "code",
   "execution_count": null,
   "metadata": {},
   "outputs": [],
   "source": []
  }
 ],
 "metadata": {
  "kernelspec": {
   "display_name": "Python 3",
   "language": "python",
   "name": "python3"
  },
  "language_info": {
   "codemirror_mode": {
    "name": "ipython",
    "version": 3
   },
   "file_extension": ".py",
   "mimetype": "text/x-python",
   "name": "python",
   "nbconvert_exporter": "python",
   "pygments_lexer": "ipython3",
   "version": "3.6.10"
  }
 },
 "nbformat": 4,
 "nbformat_minor": 4
}
